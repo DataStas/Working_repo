{
 "cells": [
  {
   "cell_type": "code",
   "execution_count": 47,
   "id": "84ec2285",
   "metadata": {},
   "outputs": [],
   "source": [
    "class Solution(object):\n",
    "    def findMedianSortedArrays(self, nums1, nums2):\n",
    "        \"\"\"\n",
    "        :type nums1: List[int]\n",
    "        :type nums2: List[int]\n",
    "        :rtype: float\n",
    "        \"\"\"\n",
    "        len_c = len(nums1) + len(nums2)\n",
    "        if (len(nums1) + len(nums2)) % 2 == 0:\n",
    "            case = 0\n",
    "        else:\n",
    "            case = 1\n",
    "        merdged = []\n",
    "        k = 0\n",
    "        j = 0\n",
    "        for i in range(len_c):\n",
    "            if k < len(nums1) and j < len(nums2):\n",
    "                if nums1[k] > nums2[j]:\n",
    "                    merdged.append(nums2[j])\n",
    "                    j += 1\n",
    "                else:\n",
    "                    merdged.append(nums1[k])\n",
    "                    k += 1\n",
    "            elif  k < len(nums1):\n",
    "                    merdged.append(nums1[k])\n",
    "                    k += 1\n",
    "            elif j < len(nums2):\n",
    "                    merdged.append(nums2[j])\n",
    "                    j += 1\n",
    "        idx = int(round(len_c/2)-1)\n",
    "        print(len_c, round(len_c/2)-1)\n",
    "        return merdged[idx] if case == 1 else (merdged[idx]+merdged[idx-1])/2"
   ]
  },
  {
   "cell_type": "code",
   "execution_count": 48,
   "id": "36f915ca",
   "metadata": {},
   "outputs": [
    {
     "name": "stdout",
     "output_type": "stream",
     "text": [
      "3 1\n"
     ]
    },
    {
     "data": {
      "text/plain": [
       "2"
      ]
     },
     "execution_count": 48,
     "metadata": {},
     "output_type": "execute_result"
    }
   ],
   "source": [
    "c = Solution()\n",
    "nums1 = [1,3]\n",
    "nums2 = [2]\n",
    "# nums1 = [1,2]\n",
    "# nums2 = [3,4]\n",
    "c.findMedianSortedArrays(nums1, nums2)"
   ]
  },
  {
   "cell_type": "code",
   "execution_count": 29,
   "id": "a425b490",
   "metadata": {},
   "outputs": [
    {
     "data": {
      "text/plain": [
       "int"
      ]
     },
     "execution_count": 29,
     "metadata": {},
     "output_type": "execute_result"
    }
   ],
   "source": [
    "type(int(round(5/2)))"
   ]
  },
  {
   "cell_type": "code",
   "execution_count": 20,
   "id": "0040a013",
   "metadata": {},
   "outputs": [
    {
     "name": "stdout",
     "output_type": "stream",
     "text": [
      "[1, 2, 3, 4]\n",
      "1 2\n",
      "2.5\n"
     ]
    }
   ],
   "source": [
    "\n",
    "len_c = len(nums1) + len(nums2)\n",
    "if (len(nums1) + len(nums2)) % 2 == 0:\n",
    "    case = 0\n",
    "else:\n",
    "    case = 1\n",
    "merdged = []\n",
    "k = 0\n",
    "j = 0\n",
    "for i in range(len_c):\n",
    "    \n",
    "    if k < len(nums1) and j < len(nums2):\n",
    "        if nums1[k] > nums2[j]:\n",
    "            merdged.append(nums2[j])\n",
    "            j += 1\n",
    "        else:\n",
    "            merdged.append(nums1[k])\n",
    "            k += 1\n",
    "    elif  k < len(nums1):\n",
    "            merdged.append(nums1[k])\n",
    "            k += 1\n",
    "    elif j < len(nums2):\n",
    "            merdged.append(nums2[j])\n",
    "            j += 1\n",
    "print(merdged)\n",
    "print((round(len_c/2)-1), (round(len_c/2)))\n",
    "print(merdged[(round(len_c/2)-1)] if case == 1 else (merdged[(round(len_c/2)-1)]+merdged[(round(len_c/2))])/2)        "
   ]
  },
  {
   "cell_type": "code",
   "execution_count": 2,
   "id": "99d5df70",
   "metadata": {},
   "outputs": [
    {
     "data": {
      "text/plain": [
       "[1, 3]"
      ]
     },
     "execution_count": 2,
     "metadata": {},
     "output_type": "execute_result"
    }
   ],
   "source": [
    "len_c"
   ]
  },
  {
   "cell_type": "code",
   "execution_count": null,
   "id": "722e67e1",
   "metadata": {},
   "outputs": [],
   "source": []
  }
 ],
 "metadata": {
  "kernelspec": {
   "display_name": "Python 3 (ipykernel)",
   "language": "python",
   "name": "python3"
  },
  "language_info": {
   "codemirror_mode": {
    "name": "ipython",
    "version": 3
   },
   "file_extension": ".py",
   "mimetype": "text/x-python",
   "name": "python",
   "nbconvert_exporter": "python",
   "pygments_lexer": "ipython3",
   "version": "3.9.10"
  }
 },
 "nbformat": 4,
 "nbformat_minor": 5
}
