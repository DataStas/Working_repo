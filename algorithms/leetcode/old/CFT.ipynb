{
 "cells": [
  {
   "cell_type": "code",
   "execution_count": 1,
   "id": "186095b2",
   "metadata": {},
   "outputs": [],
   "source": [
    "o = [1, 2, 3]"
   ]
  },
  {
   "cell_type": "code",
   "execution_count": 3,
   "id": "f36f1abb",
   "metadata": {},
   "outputs": [],
   "source": [
    "o.reverse()"
   ]
  },
  {
   "cell_type": "code",
   "execution_count": 4,
   "id": "5b7926e7",
   "metadata": {},
   "outputs": [
    {
     "name": "stdout",
     "output_type": "stream",
     "text": [
      "False False\n"
     ]
    }
   ],
   "source": [
    "a = None\n",
    "b = False\n",
    "print(a == b, a is b)"
   ]
  },
  {
   "cell_type": "code",
   "execution_count": 5,
   "id": "4a008733",
   "metadata": {},
   "outputs": [
    {
     "name": "stdout",
     "output_type": "stream",
     "text": [
      "False\n"
     ]
    }
   ],
   "source": [
    "a = 1\n",
    "a_id = id(a)\n",
    "a += 1\n",
    "print(id(a) == a_id)"
   ]
  },
  {
   "cell_type": "code",
   "execution_count": 8,
   "id": "78d0fcd5",
   "metadata": {},
   "outputs": [
    {
     "name": "stdout",
     "output_type": "stream",
     "text": [
      "May\n",
      "Can\n",
      "None None\n"
     ]
    }
   ],
   "source": [
    "class Animal:\n",
    "    def say(self):\n",
    "        raise NotImplemented\n",
    "\n",
    "class Cat(Animal):\n",
    "    def say(self):\n",
    "        print('May')\n",
    "\n",
    "class Dog(Animal):\n",
    "    def say(self):\n",
    "        print('Gav')\n",
    "        \n",
    "class CatDog(Cat, Dog):\n",
    "    def eat(self):\n",
    "        print('Can')\n",
    "\n",
    "catdog = CatDog()\n",
    "print(f'{catdog.say()} {catdog.eat()}')"
   ]
  },
  {
   "cell_type": "code",
   "execution_count": 10,
   "id": "89d392d3",
   "metadata": {},
   "outputs": [
    {
     "name": "stdout",
     "output_type": "stream",
     "text": [
      "[[0, 1], [0, 1]]\n"
     ]
    }
   ],
   "source": [
    "matrix = [[]] *2\n",
    "matrix[0].extend([0, 1])\n",
    "print(matrix)"
   ]
  },
  {
   "cell_type": "code",
   "execution_count": 12,
   "id": "fc45c9a7",
   "metadata": {},
   "outputs": [
    {
     "name": "stdout",
     "output_type": "stream",
     "text": [
      "0\n"
     ]
    }
   ],
   "source": [
    "x = 13\n",
    "\n",
    "num = 0 if x > 5 else x == 5\n",
    "print(num)"
   ]
  },
  {
   "cell_type": "code",
   "execution_count": 13,
   "id": "af2fd53d",
   "metadata": {},
   "outputs": [
    {
     "ename": "ValueError",
     "evalue": "invalid literal for int() with base 10: 'B'",
     "output_type": "error",
     "traceback": [
      "\u001b[1;31m---------------------------------------------------------------------------\u001b[0m",
      "\u001b[1;31mValueError\u001b[0m                                Traceback (most recent call last)",
      "\u001b[1;32md:\\Pyhton_Dir\\Projects\\Working_repo\\Leetcode\\CFT.ipynb Cell 8\u001b[0m in \u001b[0;36m<module>\u001b[1;34m\u001b[0m\n\u001b[1;32m----> <a href='vscode-notebook-cell:/d%3A/Pyhton_Dir/Projects/Working_repo/Leetcode/CFT.ipynb#X13sZmlsZQ%3D%3D?line=0'>1</a>\u001b[0m a \u001b[39m=\u001b[39m \u001b[39mint\u001b[39;49m(\u001b[39m'\u001b[39;49m\u001b[39mB\u001b[39;49m\u001b[39m'\u001b[39;49m)\n\u001b[0;32m      <a href='vscode-notebook-cell:/d%3A/Pyhton_Dir/Projects/Working_repo/Leetcode/CFT.ipynb#X13sZmlsZQ%3D%3D?line=1'>2</a>\u001b[0m \u001b[39mprint\u001b[39m(a)\n",
      "\u001b[1;31mValueError\u001b[0m: invalid literal for int() with base 10: 'B'"
     ]
    }
   ],
   "source": [
    "a = int('B')\n",
    "print(a)"
   ]
  },
  {
   "cell_type": "code",
   "execution_count": 16,
   "id": "e38b524d",
   "metadata": {},
   "outputs": [
    {
     "ename": "NameError",
     "evalue": "name 'p' is not defined",
     "output_type": "error",
     "traceback": [
      "\u001b[1;31m---------------------------------------------------------------------------\u001b[0m",
      "\u001b[1;31mNameError\u001b[0m                                 Traceback (most recent call last)",
      "\u001b[1;32md:\\Pyhton_Dir\\Projects\\Working_repo\\Leetcode\\CFT.ipynb Cell 9\u001b[0m in \u001b[0;36m<module>\u001b[1;34m\u001b[0m\n\u001b[0;32m      <a href='vscode-notebook-cell:/d%3A/Pyhton_Dir/Projects/Working_repo/Leetcode/CFT.ipynb#X14sZmlsZQ%3D%3D?line=0'>1</a>\u001b[0m a \u001b[39m=\u001b[39m \u001b[39m10\u001b[39m\n\u001b[1;32m----> <a href='vscode-notebook-cell:/d%3A/Pyhton_Dir/Projects/Working_repo/Leetcode/CFT.ipynb#X14sZmlsZQ%3D%3D?line=1'>2</a>\u001b[0m \u001b[39mprint\u001b[39m(p)\n",
      "\u001b[1;31mNameError\u001b[0m: name 'p' is not defined"
     ]
    }
   ],
   "source": [
    "a = 10\n",
    "print(p)"
   ]
  },
  {
   "cell_type": "code",
   "execution_count": 17,
   "id": "db2e9640",
   "metadata": {},
   "outputs": [
    {
     "name": "stdout",
     "output_type": "stream",
     "text": [
      "-1\n"
     ]
    }
   ],
   "source": [
    "a = 10\n",
    "a -= 11\n",
    "print(a)"
   ]
  },
  {
   "cell_type": "code",
   "execution_count": 18,
   "id": "954f16e9",
   "metadata": {},
   "outputs": [
    {
     "name": "stdout",
     "output_type": "stream",
     "text": [
      "hheellll"
     ]
    }
   ],
   "source": [
    "for i in 'hello world':\n",
    "    if i == 'o':\n",
    "        break\n",
    "    print(i * 2, end='')"
   ]
  },
  {
   "cell_type": "code",
   "execution_count": 20,
   "id": "faaf4bd4",
   "metadata": {},
   "outputs": [
    {
     "name": "stdout",
     "output_type": "stream",
     "text": [
      "s-t-t\n"
     ]
    }
   ],
   "source": [
    "for i in range(len('str')):\n",
    "    if i != 2:\n",
    "        print('str'[i], end='-')\n",
    "    else:\n",
    "        print('str'[1])"
   ]
  },
  {
   "cell_type": "code",
   "execution_count": 21,
   "id": "8ae41c5f",
   "metadata": {},
   "outputs": [
    {
     "name": "stdout",
     "output_type": "stream",
     "text": [
      "Unex\n",
      "Calcu comp\n"
     ]
    }
   ],
   "source": [
    "try:\n",
    "    valuab = 1 / 0\n",
    "except Exception:\n",
    "    print('Unex')\n",
    "except ZeroDivisionError:\n",
    "    raise\n",
    "finally:\n",
    "    print('Calcu comp')"
   ]
  },
  {
   "cell_type": "code",
   "execution_count": 22,
   "id": "3154c346",
   "metadata": {},
   "outputs": [
    {
     "ename": "SyntaxError",
     "evalue": "invalid syntax. Perhaps you forgot a comma? (138069001.py, line 1)",
     "output_type": "error",
     "traceback": [
      "\u001b[1;36m  Input \u001b[1;32mIn [22]\u001b[1;36m\u001b[0m\n\u001b[1;33m    int foo(int a, int b):\u001b[0m\n\u001b[1;37m            ^\u001b[0m\n\u001b[1;31mSyntaxError\u001b[0m\u001b[1;31m:\u001b[0m invalid syntax. Perhaps you forgot a comma?\n"
     ]
    }
   ],
   "source": [
    "int foo(int a, int b) {\n",
    "    return a + b"
   ]
  },
  {
   "cell_type": "code",
   "execution_count": 23,
   "id": "2cbe6196",
   "metadata": {},
   "outputs": [],
   "source": [
    "foo = lambda a,b: a+b"
   ]
  },
  {
   "cell_type": "code",
   "execution_count": 24,
   "id": "c4e9b510",
   "metadata": {},
   "outputs": [
    {
     "ename": "SyntaxError",
     "evalue": "invalid syntax (4181689931.py, line 1)",
     "output_type": "error",
     "traceback": [
      "\u001b[1;36m  Input \u001b[1;32mIn [24]\u001b[1;36m\u001b[0m\n\u001b[1;33m    foo = function a, b: a + b\u001b[0m\n\u001b[1;37m                   ^\u001b[0m\n\u001b[1;31mSyntaxError\u001b[0m\u001b[1;31m:\u001b[0m invalid syntax\n"
     ]
    }
   ],
   "source": [
    "foo = function a, b: a + b"
   ]
  },
  {
   "cell_type": "code",
   "execution_count": 28,
   "id": "ba673400",
   "metadata": {},
   "outputs": [],
   "source": [
    "d = {: 1}"
   ]
  },
  {
   "cell_type": "code",
   "execution_count": 26,
   "id": "77cb1b19",
   "metadata": {},
   "outputs": [
    {
     "data": {
      "text/plain": [
       "dict_items([(True, 1)])"
      ]
     },
     "execution_count": 26,
     "metadata": {},
     "output_type": "execute_result"
    }
   ],
   "source": [
    "d.items()"
   ]
  },
  {
   "cell_type": "code",
   "execution_count": 31,
   "id": "35764e6c",
   "metadata": {},
   "outputs": [
    {
     "name": "stdout",
     "output_type": "stream",
     "text": [
      "4\n"
     ]
    }
   ],
   "source": [
    "res = [i**2 for i in range(3)]\n",
    "print(res[2])"
   ]
  },
  {
   "cell_type": "code",
   "execution_count": 32,
   "id": "91f22ae8",
   "metadata": {},
   "outputs": [
    {
     "name": "stdout",
     "output_type": "stream",
     "text": [
      "5 [6, 7, 8]\n"
     ]
    }
   ],
   "source": [
    "a = 5\n",
    "b = a\n",
    "c = [6, 7]\n",
    "d = c\n",
    "a = 6\n",
    "c.append(8)\n",
    "print(b, d)"
   ]
  },
  {
   "cell_type": "code",
   "execution_count": 33,
   "id": "c3d4e736",
   "metadata": {},
   "outputs": [
    {
     "name": "stdout",
     "output_type": "stream",
     "text": [
      "0.0\n",
      "fin\n"
     ]
    }
   ],
   "source": [
    "a = 0\n",
    "b = 1\n",
    "try:\n",
    "    c = a / b\n",
    "except ZeroDivisionError:\n",
    "    print('zero')\n",
    "else:\n",
    "    print(c)\n",
    "finally:\n",
    "    print('fin')"
   ]
  },
  {
   "cell_type": "code",
   "execution_count": 34,
   "id": "c2f6ae08",
   "metadata": {},
   "outputs": [
    {
     "name": "stdout",
     "output_type": "stream",
     "text": [
      "0\n",
      "1\n",
      "4\n",
      "9\n",
      "16\n"
     ]
    }
   ],
   "source": [
    "seq = (i**2 for i in range(5))\n",
    "for elem in seq:\n",
    "    print(elem)\n",
    "for elem in seq:\n",
    "    print(elem)"
   ]
  },
  {
   "cell_type": "code",
   "execution_count": 35,
   "id": "e8021478",
   "metadata": {},
   "outputs": [
    {
     "ename": "TypeError",
     "evalue": "'str' object does not support item assignment",
     "output_type": "error",
     "traceback": [
      "\u001b[1;31m---------------------------------------------------------------------------\u001b[0m",
      "\u001b[1;31mTypeError\u001b[0m                                 Traceback (most recent call last)",
      "\u001b[1;32md:\\Pyhton_Dir\\Projects\\Working_repo\\Leetcode\\CFT.ipynb Cell 23\u001b[0m in \u001b[0;36m<module>\u001b[1;34m\u001b[0m\n\u001b[0;32m      <a href='vscode-notebook-cell:/d%3A/Pyhton_Dir/Projects/Working_repo/Leetcode/CFT.ipynb#X34sZmlsZQ%3D%3D?line=0'>1</a>\u001b[0m a \u001b[39m=\u001b[39m \u001b[39m'\u001b[39m\u001b[39mhello world\u001b[39m\u001b[39m'\u001b[39m\n\u001b[1;32m----> <a href='vscode-notebook-cell:/d%3A/Pyhton_Dir/Projects/Working_repo/Leetcode/CFT.ipynb#X34sZmlsZQ%3D%3D?line=1'>2</a>\u001b[0m a[\u001b[39m1\u001b[39m], a[\u001b[39m5\u001b[39m] \u001b[39m=\u001b[39m \u001b[39m'\u001b[39m\u001b[39ma\u001b[39m\u001b[39m'\u001b[39m, \u001b[39m'\u001b[39m\u001b[39ma\u001b[39m\u001b[39m'\u001b[39m\n",
      "\u001b[1;31mTypeError\u001b[0m: 'str' object does not support item assignment"
     ]
    }
   ],
   "source": [
    "a = 'hello world'\n",
    "a[1], a[5] = 'a', 'a'"
   ]
  },
  {
   "cell_type": "code",
   "execution_count": 39,
   "id": "364c3ce7",
   "metadata": {},
   "outputs": [],
   "source": [
    "c = {'h': 1,0 :'h'}\n",
    "c[0] = 'a'"
   ]
  },
  {
   "cell_type": "code",
   "execution_count": 40,
   "id": "ee824281",
   "metadata": {},
   "outputs": [],
   "source": [
    "class Point(object):\n",
    "    __slots__ = ('x', 'y')"
   ]
  },
  {
   "cell_type": "code",
   "execution_count": 41,
   "id": "539dcbea",
   "metadata": {},
   "outputs": [
    {
     "ename": "TypeError",
     "evalue": "Point() takes no arguments",
     "output_type": "error",
     "traceback": [
      "\u001b[1;31m---------------------------------------------------------------------------\u001b[0m",
      "\u001b[1;31mTypeError\u001b[0m                                 Traceback (most recent call last)",
      "\u001b[1;32md:\\Pyhton_Dir\\Projects\\Working_repo\\Leetcode\\CFT.ipynb Cell 26\u001b[0m in \u001b[0;36m<module>\u001b[1;34m\u001b[0m\n\u001b[1;32m----> <a href='vscode-notebook-cell:/d%3A/Pyhton_Dir/Projects/Working_repo/Leetcode/CFT.ipynb#X40sZmlsZQ%3D%3D?line=0'>1</a>\u001b[0m Point(\u001b[39m1\u001b[39;49m, \u001b[39m2\u001b[39;49m)\n",
      "\u001b[1;31mTypeError\u001b[0m: Point() takes no arguments"
     ]
    }
   ],
   "source": [
    "Point(1, 2)"
   ]
  },
  {
   "cell_type": "code",
   "execution_count": 42,
   "id": "5f50f6c3",
   "metadata": {},
   "outputs": [
    {
     "ename": "NameError",
     "evalue": "name 'Self' is not defined",
     "output_type": "error",
     "traceback": [
      "\u001b[1;31m---------------------------------------------------------------------------\u001b[0m",
      "\u001b[1;31mNameError\u001b[0m                                 Traceback (most recent call last)",
      "\u001b[1;32md:\\Pyhton_Dir\\Projects\\Working_repo\\Leetcode\\CFT.ipynb Cell 27\u001b[0m in \u001b[0;36m<module>\u001b[1;34m\u001b[0m\n\u001b[1;32m----> <a href='vscode-notebook-cell:/d%3A/Pyhton_Dir/Projects/Working_repo/Leetcode/CFT.ipynb#X41sZmlsZQ%3D%3D?line=0'>1</a>\u001b[0m \u001b[39mclass\u001b[39;00m \u001b[39mPoint\u001b[39;00m(\u001b[39mobject\u001b[39m):\n\u001b[0;32m      <a href='vscode-notebook-cell:/d%3A/Pyhton_Dir/Projects/Working_repo/Leetcode/CFT.ipynb#X41sZmlsZQ%3D%3D?line=1'>2</a>\u001b[0m     \u001b[39mdef\u001b[39;00m \u001b[39m__new__\u001b[39m(\u001b[39mself\u001b[39m, x, y) \u001b[39m-\u001b[39m\u001b[39m>\u001b[39m Self:\n\u001b[0;32m      <a href='vscode-notebook-cell:/d%3A/Pyhton_Dir/Projects/Working_repo/Leetcode/CFT.ipynb#X41sZmlsZQ%3D%3D?line=2'>3</a>\u001b[0m         \u001b[39mself\u001b[39m\u001b[39m.\u001b[39mx \u001b[39m=\u001b[39m x\n",
      "\u001b[1;32md:\\Pyhton_Dir\\Projects\\Working_repo\\Leetcode\\CFT.ipynb Cell 27\u001b[0m in \u001b[0;36mPoint\u001b[1;34m()\u001b[0m\n\u001b[0;32m      <a href='vscode-notebook-cell:/d%3A/Pyhton_Dir/Projects/Working_repo/Leetcode/CFT.ipynb#X41sZmlsZQ%3D%3D?line=0'>1</a>\u001b[0m \u001b[39mclass\u001b[39;00m \u001b[39mPoint\u001b[39;00m(\u001b[39mobject\u001b[39m):\n\u001b[1;32m----> <a href='vscode-notebook-cell:/d%3A/Pyhton_Dir/Projects/Working_repo/Leetcode/CFT.ipynb#X41sZmlsZQ%3D%3D?line=1'>2</a>\u001b[0m     \u001b[39mdef\u001b[39;00m \u001b[39m__new__\u001b[39m(\u001b[39mself\u001b[39m, x, y) \u001b[39m-\u001b[39m\u001b[39m>\u001b[39m Self:\n\u001b[0;32m      <a href='vscode-notebook-cell:/d%3A/Pyhton_Dir/Projects/Working_repo/Leetcode/CFT.ipynb#X41sZmlsZQ%3D%3D?line=2'>3</a>\u001b[0m         \u001b[39mself\u001b[39m\u001b[39m.\u001b[39mx \u001b[39m=\u001b[39m x\n\u001b[0;32m      <a href='vscode-notebook-cell:/d%3A/Pyhton_Dir/Projects/Working_repo/Leetcode/CFT.ipynb#X41sZmlsZQ%3D%3D?line=3'>4</a>\u001b[0m         \u001b[39mself\u001b[39m\u001b[39m.\u001b[39my \u001b[39m=\u001b[39m y\n",
      "\u001b[1;31mNameError\u001b[0m: name 'Self' is not defined"
     ]
    }
   ],
   "source": [
    "class Point(object):\n",
    "    def __new__(self, x, y) -> Self:\n",
    "        self.x = x\n",
    "        self.y = y"
   ]
  },
  {
   "cell_type": "code",
   "execution_count": 43,
   "id": "0a81c631",
   "metadata": {},
   "outputs": [],
   "source": [
    "class Point:\n",
    "    def Point(x, y):\n",
    "        x = x\n",
    "        y = y"
   ]
  },
  {
   "cell_type": "code",
   "execution_count": 44,
   "id": "dc27b2a8",
   "metadata": {},
   "outputs": [],
   "source": [
    "p = Point()"
   ]
  },
  {
   "cell_type": "code",
   "execution_count": null,
   "id": "f0524cfe",
   "metadata": {},
   "outputs": [],
   "source": []
  }
 ],
 "metadata": {
  "kernelspec": {
   "display_name": "Python 3 (ipykernel)",
   "language": "python",
   "name": "python3"
  },
  "language_info": {
   "codemirror_mode": {
    "name": "ipython",
    "version": 3
   },
   "file_extension": ".py",
   "mimetype": "text/x-python",
   "name": "python",
   "nbconvert_exporter": "python",
   "pygments_lexer": "ipython3",
   "version": "3.10.1"
  }
 },
 "nbformat": 4,
 "nbformat_minor": 5
}
