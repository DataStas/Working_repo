{
 "cells": [
  {
   "cell_type": "code",
   "execution_count": null,
   "id": "66c36c75",
   "metadata": {},
   "outputs": [],
   "source": [
    "class Solution(object):\n",
    "    def plusOne(self, digits):\n",
    "        power = len(digits)-1\n",
    "        ans = 0\n",
    "        for i in range(len(digits)):\n",
    "            ans += digits[i] * 10**(power)\n",
    "            power -= 1\n",
    "        ans += 1\n",
    "        out = []\n",
    "        while ans > 0:\n",
    "            out.append(ans % 10)\n",
    "            ans = ans // 10\n",
    "        return out[::-1]"
   ]
  }
 ],
 "metadata": {
  "kernelspec": {
   "display_name": "Python 3 (ipykernel)",
   "language": "python",
   "name": "python3"
  },
  "language_info": {
   "codemirror_mode": {
    "name": "ipython",
    "version": 3
   },
   "file_extension": ".py",
   "mimetype": "text/x-python",
   "name": "python",
   "nbconvert_exporter": "python",
   "pygments_lexer": "ipython3",
   "version": "3.9.10"
  }
 },
 "nbformat": 4,
 "nbformat_minor": 5
}
