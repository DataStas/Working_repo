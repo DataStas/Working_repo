{
 "cells": [
  {
   "cell_type": "code",
   "execution_count": 6,
   "id": "186095b2",
   "metadata": {},
   "outputs": [],
   "source": [
    "class Solution:\n",
    "    def isPalindrome(self, x: int) -> bool:\n",
    "        x = str(x)\n",
    "        l = 0\n",
    "        r = len(x)-1\n",
    "        while l < r:\n",
    "            print(x[l], x[r])\n",
    "            if(x[l] == x[r]):\n",
    "                l += 1\n",
    "                r -= 1\n",
    "            else:\n",
    "                return False\n",
    "        return True "
   ]
  },
  {
   "cell_type": "code",
   "execution_count": 5,
   "id": "f36f1abb",
   "metadata": {},
   "outputs": [],
   "source": [
    "class Solution:\n",
    "    def isPalindrome(self, x: int) -> bool:\n",
    "        x = str(x)\n",
    "        b = x[::-1]\n",
    "        if x == b:\n",
    "            return True \n",
    "        else:\n",
    "            return False"
   ]
  },
  {
   "cell_type": "code",
   "execution_count": 8,
   "id": "5b7926e7",
   "metadata": {},
   "outputs": [
    {
     "name": "stdout",
     "output_type": "stream",
     "text": [
      "- 1\n"
     ]
    },
    {
     "data": {
      "text/plain": [
       "False"
      ]
     },
     "execution_count": 8,
     "metadata": {},
     "output_type": "execute_result"
    }
   ],
   "source": [
    "s = Solution()\n",
    "s.isPalindrome(-121)"
   ]
  },
  {
   "cell_type": "code",
   "execution_count": 1,
   "id": "4dd2f13a",
   "metadata": {},
   "outputs": [
    {
     "data": {
      "text/plain": [
       "'-121'"
      ]
     },
     "execution_count": 1,
     "metadata": {},
     "output_type": "execute_result"
    }
   ],
   "source": [
    "str(-121)"
   ]
  },
  {
   "cell_type": "code",
   "execution_count": 10,
   "id": "ac4d6ed5",
   "metadata": {},
   "outputs": [],
   "source": [
    "a, b = divmod(12, 10)"
   ]
  },
  {
   "cell_type": "code",
   "execution_count": 11,
   "id": "1db8958d",
   "metadata": {},
   "outputs": [
    {
     "data": {
      "text/plain": [
       "(1, 2)"
      ]
     },
     "execution_count": 11,
     "metadata": {},
     "output_type": "execute_result"
    }
   ],
   "source": [
    "a, b "
   ]
  },
  {
   "cell_type": "code",
   "execution_count": null,
   "id": "4a008733",
   "metadata": {},
   "outputs": [],
   "source": []
  }
 ],
 "metadata": {
  "kernelspec": {
   "display_name": "Python 3 (ipykernel)",
   "language": "python",
   "name": "python3"
  },
  "language_info": {
   "codemirror_mode": {
    "name": "ipython",
    "version": 3
   },
   "file_extension": ".py",
   "mimetype": "text/x-python",
   "name": "python",
   "nbconvert_exporter": "python",
   "pygments_lexer": "ipython3",
   "version": "3.9.10"
  }
 },
 "nbformat": 4,
 "nbformat_minor": 5
}
