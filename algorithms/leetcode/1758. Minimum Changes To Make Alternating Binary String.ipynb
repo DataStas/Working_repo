{
 "cells": [
  {
   "cell_type": "code",
   "execution_count": 1,
   "id": "4faa30cd",
   "metadata": {},
   "outputs": [],
   "source": [
    "class Solution:\n",
    "    def minOperations(self, s: str) -> int:\n",
    "        zero_first = 0\n",
    "        flag = 0\n",
    "        for c in s:\n",
    "            if int(c) != flag:\n",
    "                zero_first += 1\n",
    "            flag = not flag\n",
    "\n",
    "        one_first = len(s) - zero_first\n",
    "        print(one_first, zero_first)\n",
    "        return min(zero_first, one_first)\n",
    "            "
   ]
  },
  {
   "cell_type": "code",
   "execution_count": 2,
   "id": "499d9991",
   "metadata": {},
   "outputs": [],
   "source": [
    "s = Solution()"
   ]
  },
  {
   "cell_type": "code",
   "execution_count": 6,
   "id": "17f487a7",
   "metadata": {},
   "outputs": [
    {
     "name": "stdout",
     "output_type": "stream",
     "text": [
      "15 0\n"
     ]
    },
    {
     "data": {
      "text/plain": [
       "0"
      ]
     },
     "execution_count": 6,
     "metadata": {},
     "output_type": "execute_result"
    }
   ],
   "source": [
    "s.minOperations(\"000010100101010\")"
   ]
  },
  {
   "cell_type": "code",
   "execution_count": 5,
   "id": "a525c7b0",
   "metadata": {},
   "outputs": [
    {
     "data": {
      "text/plain": [
       "15"
      ]
     },
     "execution_count": 5,
     "metadata": {},
     "output_type": "execute_result"
    }
   ],
   "source": [
    "len(\"000010100101010\")"
   ]
  },
  {
   "cell_type": "code",
   "execution_count": null,
   "id": "424467f4",
   "metadata": {},
   "outputs": [],
   "source": [
    "\"010101010101010\""
   ]
  },
  {
   "cell_type": "code",
   "execution_count": null,
   "id": "32f9d000",
   "metadata": {},
   "outputs": [],
   "source": [
    "class Solution:\n",
    "    def minOperations(self, s: str) -> int:\n",
    "        return min(\n",
    "            sum(int(bit) == i & 1 for i, bit in enumerate(s)),\n",
    "            sum(int(bit) != i & 1 for i, bit in enumerate(s)),\n",
    "        )"
   ]
  }
 ],
 "metadata": {
  "kernelspec": {
   "display_name": "Python 3 (ipykernel)",
   "language": "python",
   "name": "python3"
  },
  "language_info": {
   "codemirror_mode": {
    "name": "ipython",
    "version": 3
   },
   "file_extension": ".py",
   "mimetype": "text/x-python",
   "name": "python",
   "nbconvert_exporter": "python",
   "pygments_lexer": "ipython3",
   "version": "3.10.1"
  }
 },
 "nbformat": 4,
 "nbformat_minor": 5
}
