{
 "cells": [
  {
   "cell_type": "code",
   "execution_count": 23,
   "id": "083e4ce4",
   "metadata": {},
   "outputs": [],
   "source": [
    "class Solution(object):\n",
    "    def lengthOfLongestSubstring(self, s):\n",
    "        \"\"\"\n",
    "        :type s: str\n",
    "        :rtype: int\n",
    "        \"\"\"\n",
    "        dict_c = {}\n",
    "        i = 0\n",
    "        ans = 0\n",
    "        for j in range(len(s)):\n",
    "            if s[j] in dict_c:\n",
    "                i = max(dict_c[s[j]], i)\n",
    "            ans = max(ans, j - i + 1)\n",
    "            dict_c[s[j]] = j + 1\n",
    "        return ans\n",
    "        "
   ]
  },
  {
   "cell_type": "code",
   "execution_count": 24,
   "id": "95916d69",
   "metadata": {},
   "outputs": [
    {
     "data": {
      "text/plain": [
       "1"
      ]
     },
     "execution_count": 24,
     "metadata": {},
     "output_type": "execute_result"
    }
   ],
   "source": [
    "c = Solution()\n",
    "s = \"bbbbb\"\n",
    "c.lengthOfLongestSubstring(s)"
   ]
  },
  {
   "cell_type": "code",
   "execution_count": 20,
   "id": "9fc0e5a7",
   "metadata": {},
   "outputs": [
    {
     "name": "stdout",
     "output_type": "stream",
     "text": [
      "1 1\n"
     ]
    }
   ],
   "source": [
    "s = \"bbbbb\"\n",
    "left = 0\n",
    "right = len(s)-1\n",
    "condition = True\n",
    "left_c, right_c = False , False\n",
    "while condition:\n",
    "    if s[left] not in s[0:left]:\n",
    "        left += 1\n",
    "    else:\n",
    "        left_c = True\n",
    "    if s[right-1] not in s[right:]:\n",
    "        right -= 1\n",
    "    else:\n",
    "        right_c = True\n",
    "    if left_c & right_c:\n",
    "        condition = False\n",
    "        \n",
    "print(left, -(right-len(s)))"
   ]
  },
  {
   "cell_type": "code",
   "execution_count": null,
   "id": "e8dcae69",
   "metadata": {},
   "outputs": [],
   "source": []
  },
  {
   "cell_type": "code",
   "execution_count": null,
   "id": "cc66a781",
   "metadata": {},
   "outputs": [],
   "source": []
  }
 ],
 "metadata": {
  "kernelspec": {
   "display_name": "Python 3 (ipykernel)",
   "language": "python",
   "name": "python3"
  },
  "language_info": {
   "codemirror_mode": {
    "name": "ipython",
    "version": 3
   },
   "file_extension": ".py",
   "mimetype": "text/x-python",
   "name": "python",
   "nbconvert_exporter": "python",
   "pygments_lexer": "ipython3",
   "version": "3.9.10"
  }
 },
 "nbformat": 4,
 "nbformat_minor": 5
}
