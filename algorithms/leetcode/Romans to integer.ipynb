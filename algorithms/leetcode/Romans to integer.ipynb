{
 "cells": [
  {
   "cell_type": "code",
   "execution_count": 39,
   "id": "bc7460bb",
   "metadata": {},
   "outputs": [],
   "source": [
    "roman_to_int = {\"I\" : 1, \"V\" : 5, \"X\" : 10, \"L\" : 50, \"C\" : 100, \"D\" : 500, \"M\" : 1000, \"IV\" : 4, \"IX\" : 9, 'XL' : 40, \"XC\" : 90, \"CD\" : 400, \"CM\" : 900}"
   ]
  },
  {
   "cell_type": "code",
   "execution_count": 88,
   "id": "1df5137e",
   "metadata": {},
   "outputs": [],
   "source": [
    "s = 'III'"
   ]
  },
  {
   "cell_type": "code",
   "execution_count": 90,
   "id": "42a6f54a",
   "metadata": {},
   "outputs": [],
   "source": [
    "s = \"LVIII\""
   ]
  },
  {
   "cell_type": "code",
   "execution_count": 97,
   "id": "b536a02f",
   "metadata": {},
   "outputs": [],
   "source": [
    "s = \"MCMXCIV\""
   ]
  },
  {
   "cell_type": "code",
   "execution_count": 75,
   "id": "9b72b32f",
   "metadata": {},
   "outputs": [
    {
     "name": "stdout",
     "output_type": "stream",
     "text": [
      "7\n"
     ]
    }
   ],
   "source": [
    "print(len(s))"
   ]
  },
  {
   "cell_type": "code",
   "execution_count": 93,
   "id": "a32c9b9a",
   "metadata": {},
   "outputs": [
    {
     "data": {
      "text/plain": [
       "1994"
      ]
     },
     "execution_count": 93,
     "metadata": {},
     "output_type": "execute_result"
    }
   ],
   "source": [
    "        ans = 0\n",
    "        i = 0\n",
    "        finish = True\n",
    "        while finish:\n",
    "            if len(s) <= i:\n",
    "                finish = False\n",
    "                continue\n",
    "            if s[i:i+2] in roman_to_int:\n",
    "                ans += roman_to_int[s[i:i+2]]\n",
    "                i += 2\n",
    "            elif s[i] in roman_to_int:\n",
    "                ans += roman_to_int[s[i:i+1]]\n",
    "                i += 1\n",
    "        ans"
   ]
  },
  {
   "cell_type": "code",
   "execution_count": 101,
   "id": "90b4ac5f",
   "metadata": {},
   "outputs": [
    {
     "name": "stdout",
     "output_type": "stream",
     "text": [
      "1994\n"
     ]
    }
   ],
   "source": [
    "        roman_to_int = {\"I\" : 1, \"V\" : 5, \"X\" : 10, \"L\" : 50, \"C\" : 100, \"D\" : 500, \"M\" : 1000}\n",
    "        res = 0 \n",
    "        for i in range(len(s)):\n",
    "            if i + 1 < len(s) and roman_to_int[s[i]] < roman_to_int[s[i+1]]:\n",
    "                res -= roman_to_int[s[i]]\n",
    "            else:\n",
    "                res += roman_to_int[s[i]]\n",
    "                            \n",
    "print(res)"
   ]
  },
  {
   "cell_type": "code",
   "execution_count": null,
   "id": "7e806865",
   "metadata": {},
   "outputs": [],
   "source": []
  }
 ],
 "metadata": {
  "kernelspec": {
   "display_name": "Python 3 (ipykernel)",
   "language": "python",
   "name": "python3"
  },
  "language_info": {
   "codemirror_mode": {
    "name": "ipython",
    "version": 3
   },
   "file_extension": ".py",
   "mimetype": "text/x-python",
   "name": "python",
   "nbconvert_exporter": "python",
   "pygments_lexer": "ipython3",
   "version": "3.9.10"
  }
 },
 "nbformat": 4,
 "nbformat_minor": 5
}
