{
 "cells": [
  {
   "cell_type": "code",
   "execution_count": 9,
   "id": "aaba2902",
   "metadata": {},
   "outputs": [],
   "source": [
    "class Solution:\n",
    "    def mySqrt(self, x: int) -> int:\n",
    "        base =  1\n",
    "        ans = 0\n",
    "        iters = 1\n",
    "        if x <= 0:\n",
    "            return 0\n",
    "        else:\n",
    "            while iters < 2147483648:\n",
    "                if (base*base) <= x and (base+1)*(base+1) > x:\n",
    "                    return base\n",
    "                base += 1\n",
    "                iters += 1"
   ]
  },
  {
   "cell_type": "code",
   "execution_count": null,
   "id": "8d0c6a27",
   "metadata": {},
   "outputs": [],
   "source": [
    "class Solution:\n",
    "    def mySqrt(self, x: int) -> int:\n",
    "        "
   ]
  },
  {
   "cell_type": "code",
   "execution_count": 2,
   "id": "5e99c08a",
   "metadata": {},
   "outputs": [],
   "source": [
    "s = Solution()"
   ]
  },
  {
   "cell_type": "code",
   "execution_count": 10,
   "id": "eab15408",
   "metadata": {},
   "outputs": [],
   "source": [
    "ans = []\n",
    "for i in range(100000):\n",
    "    ans.append(s.mySqrt(i))"
   ]
  },
  {
   "cell_type": "code",
   "execution_count": 14,
   "id": "545bf3b0",
   "metadata": {},
   "outputs": [
    {
     "data": {
      "text/plain": [
       "[316, 316, 316, 316, 316]"
      ]
     },
     "execution_count": 14,
     "metadata": {},
     "output_type": "execute_result"
    }
   ],
   "source": [
    "ans[-5:]"
   ]
  },
  {
   "cell_type": "code",
   "execution_count": 7,
   "id": "c71c34fa",
   "metadata": {},
   "outputs": [
    {
     "data": {
      "text/plain": [
       "2147483648"
      ]
     },
     "execution_count": 7,
     "metadata": {},
     "output_type": "execute_result"
    }
   ],
   "source": [
    "2**31"
   ]
  },
  {
   "cell_type": "code",
   "execution_count": 15,
   "id": "16190c4a",
   "metadata": {},
   "outputs": [
    {
     "data": {
      "text/plain": [
       "99856"
      ]
     },
     "execution_count": 15,
     "metadata": {},
     "output_type": "execute_result"
    }
   ],
   "source": [
    "316*316"
   ]
  },
  {
   "cell_type": "code",
   "execution_count": 19,
   "id": "e7a72e4f",
   "metadata": {},
   "outputs": [
    {
     "data": {
      "text/plain": [
       "1"
      ]
     },
     "execution_count": 19,
     "metadata": {},
     "output_type": "execute_result"
    }
   ],
   "source": [
    "3 % 2"
   ]
  },
  {
   "cell_type": "code",
   "execution_count": null,
   "id": "ebbfa571",
   "metadata": {},
   "outputs": [],
   "source": []
  }
 ],
 "metadata": {
  "kernelspec": {
   "display_name": "Python 3 (ipykernel)",
   "language": "python",
   "name": "python3"
  },
  "language_info": {
   "codemirror_mode": {
    "name": "ipython",
    "version": 3
   },
   "file_extension": ".py",
   "mimetype": "text/x-python",
   "name": "python",
   "nbconvert_exporter": "python",
   "pygments_lexer": "ipython3",
   "version": "3.10.1"
  }
 },
 "nbformat": 4,
 "nbformat_minor": 5
}
