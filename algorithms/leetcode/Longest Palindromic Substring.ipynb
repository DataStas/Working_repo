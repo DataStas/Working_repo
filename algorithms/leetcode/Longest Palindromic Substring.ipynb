{
 "cells": [
  {
   "cell_type": "code",
   "execution_count": 20,
   "id": "de23d0e5",
   "metadata": {},
   "outputs": [
    {
     "name": "stdout",
     "output_type": "stream",
     "text": [
      "\n"
     ]
    }
   ],
   "source": [
    "s = \"stsqwes\" \n",
    "print(s[0:-4:-1])\n",
    "if s[0:3] == s[0:3:-1]:\n",
    "    print(\"polidrome\")"
   ]
  },
  {
   "cell_type": "code",
   "execution_count": 7,
   "id": "1ef4432f",
   "metadata": {},
   "outputs": [
    {
     "data": {
      "text/plain": [
       "''"
      ]
     },
     "execution_count": 7,
     "metadata": {},
     "output_type": "execute_result"
    }
   ],
   "source": [
    "s[::3]"
   ]
  },
  {
   "cell_type": "code",
   "execution_count": 41,
   "id": "c3119344",
   "metadata": {},
   "outputs": [
    {
     "name": "stdout",
     "output_type": "stream",
     "text": [
      "bb\n"
     ]
    }
   ],
   "source": [
    "s = \"cbbd\"\n",
    "i = 0\n",
    "polidrome = \"\"\n",
    "for i in range(len(s)):\n",
    "    for j in range(len(s)):\n",
    "        part = s[i:j+1]\n",
    "#         print(part, part[::-1])\n",
    "        if part == part[::-1]:\n",
    "            if len(polidrome) < len(part):\n",
    "                polidrome = part\n",
    "print(polidrome)      \n",
    "# time limit"
   ]
  },
  {
   "cell_type": "code",
   "execution_count": null,
   "id": "26fde930",
   "metadata": {},
   "outputs": [],
   "source": [
    "for "
   ]
  },
  {
   "cell_type": "code",
   "execution_count": 31,
   "id": "e189098c",
   "metadata": {},
   "outputs": [
    {
     "name": "stdout",
     "output_type": "stream",
     "text": [
      "\n"
     ]
    }
   ],
   "source": [
    "class Solution(object):\n",
    "    def longestPalindrome(self, s):\n",
    "        \"\"\"\n",
    "        :type s: str\n",
    "        :rtype: str\n",
    "        \"\"\"\n",
    "        dict_c = {}\n",
    "        if len(s) <= 2:\n",
    "            if len(s) <= 1:\n",
    "                return s\n",
    "            else:\n",
    "                if s == s[::-1]:\n",
    "                    return s\n",
    "                else:\n",
    "                    return s[0]\n",
    "        polidrome = \"\"\n",
    "        for idx, c in enumerate(s):\n",
    "            if c not in dict_c:\n",
    "                dict_c[c] = idx\n",
    "            else:\n",
    "                i = 0\n",
    "                poli_check = True\n",
    "                while poli_check:\n",
    "                    temp = s[dict_c[c]-i:idx+1+i]\n",
    "                    temp2 = s[dict_c[c]-1-i:idx+2+i]\n",
    "                    print(idx, i, temp, temp2)\n",
    "                    if (temp == temp[::-1] and temp != \"\" and len(temp) > 1): \n",
    "                        polidrome = temp\n",
    "                        i += 1\n",
    "                    elif (temp2 == temp2[::-1] and temp2 != \"\" and len(temp2) > 1):\n",
    "                        polidrome = temp2\n",
    "                        i += 1\n",
    "                    else:\n",
    "                        poli_check = False\n",
    "                dict_c.clear()\n",
    "        return polidrome"
   ]
  },
  {
   "cell_type": "code",
   "execution_count": 63,
   "id": "ce41302f",
   "metadata": {},
   "outputs": [
    {
     "name": "stdout",
     "output_type": "stream",
     "text": [
      "aa a\n",
      "aaca aca\n",
      "aacabdka acabdka\n",
      "cabdkac abdkac\n",
      "aacabdkaca acabdkaca\n",
      "aacabdkacaa acabdkacaa\n",
      "aca\n"
     ]
    }
   ],
   "source": [
    "dict_c = {}\n",
    "s = \"babadada\"\n",
    "polidrome = \"\"\n",
    "for i, c in enumerate(s):\n",
    "    if c in dict_c:\n",
    "        j = dict_c[c]\n",
    "        temp = s[j:i+1]\n",
    "        temp1 = s[j+1:i+1]\n",
    "        if temp == temp[::-1] and len(polidrome) < len(temp):\n",
    "            polidrome = temp\n",
    "        elif temp1 == temp1[::-1] and len(polidrome) < len(temp1):\n",
    "            polidrome = temp1\n",
    "    else:\n",
    "        dict_c[c] = i\n",
    "print(polidrome if polidrome else s[0]) "
   ]
  },
  {
   "cell_type": "code",
   "execution_count": null,
   "id": "5bd1b3d8",
   "metadata": {},
   "outputs": [],
   "source": []
  }
 ],
 "metadata": {
  "kernelspec": {
   "display_name": "Python 3 (ipykernel)",
   "language": "python",
   "name": "python3"
  },
  "language_info": {
   "codemirror_mode": {
    "name": "ipython",
    "version": 3
   },
   "file_extension": ".py",
   "mimetype": "text/x-python",
   "name": "python",
   "nbconvert_exporter": "python",
   "pygments_lexer": "ipython3",
   "version": "3.9.10"
  }
 },
 "nbformat": 4,
 "nbformat_minor": 5
}
