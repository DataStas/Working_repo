{
 "cells": [
  {
   "cell_type": "code",
   "execution_count": 8,
   "id": "8bd9abee",
   "metadata": {},
   "outputs": [],
   "source": [
    "s = \"aabbccddbadd\""
   ]
  },
  {
   "cell_type": "code",
   "execution_count": 12,
   "id": "afd491fb",
   "metadata": {},
   "outputs": [],
   "source": [
    "l = 0\n",
    "check = {'a': 0, 'b' : 0, 'c': 0, 'd': 0}\n",
    "while l < len(s) -3:\n",
    "    if s[l] == s[l+1]:\n",
    "        l += 1\n",
    "        condition = True\n",
    "    else:\n",
    "        ans = set(s[l])\n",
    "        while condition:\n",
    "            if s[l+1] in ans:\n",
    "                l += 1\n",
    "            else:\n",
    "                ans.add(s[l+1])\n",
    "                l += 2\n",
    "            if {'a','b','c','d'} == ans:\n",
    "                answer = l\n",
    "            if l >= len(s) - 1:\n",
    "                condition = False\n",
    "                answer = -1"
   ]
  },
  {
   "cell_type": "code",
   "execution_count": 13,
   "id": "4ce9acc3",
   "metadata": {},
   "outputs": [
    {
     "data": {
      "text/plain": [
       "-1"
      ]
     },
     "execution_count": 13,
     "metadata": {},
     "output_type": "execute_result"
    }
   ],
   "source": [
    "answer"
   ]
  },
  {
   "cell_type": "code",
   "execution_count": 2,
   "id": "58fec9e9",
   "metadata": {},
   "outputs": [],
   "source": [
    "ans = set(s)"
   ]
  },
  {
   "cell_type": "code",
   "execution_count": 6,
   "id": "b375b07c",
   "metadata": {},
   "outputs": [
    {
     "data": {
      "text/plain": [
       "{'a', 'b', 'c', 'd'}"
      ]
     },
     "execution_count": 6,
     "metadata": {},
     "output_type": "execute_result"
    }
   ],
   "source": [
    "ans.add"
   ]
  },
  {
   "cell_type": "code",
   "execution_count": null,
   "id": "9de4ff50",
   "metadata": {},
   "outputs": [],
   "source": []
  },
  {
   "cell_type": "code",
   "execution_count": 7,
   "id": "78ce3de3",
   "metadata": {},
   "outputs": [
    {
     "data": {
      "text/plain": [
       "True"
      ]
     },
     "execution_count": 7,
     "metadata": {},
     "output_type": "execute_result"
    }
   ],
   "source": [
    "{'a','b','c','d'} == ans"
   ]
  },
  {
   "cell_type": "code",
   "execution_count": null,
   "id": "159b2062",
   "metadata": {},
   "outputs": [],
   "source": []
  }
 ],
 "metadata": {
  "kernelspec": {
   "display_name": "Python 3 (ipykernel)",
   "language": "python",
   "name": "python3"
  },
  "language_info": {
   "codemirror_mode": {
    "name": "ipython",
    "version": 3
   },
   "file_extension": ".py",
   "mimetype": "text/x-python",
   "name": "python",
   "nbconvert_exporter": "python",
   "pygments_lexer": "ipython3",
   "version": "3.10.1"
  }
 },
 "nbformat": 4,
 "nbformat_minor": 5
}
