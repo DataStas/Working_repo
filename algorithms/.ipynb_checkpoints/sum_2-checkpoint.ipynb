{
 "cells": [
  {
   "cell_type": "code",
   "execution_count": 1,
   "id": "a282f437",
   "metadata": {},
   "outputs": [],
   "source": [
    "from typing import List"
   ]
  },
  {
   "cell_type": "code",
   "execution_count": 3,
   "id": "d37e109d",
   "metadata": {},
   "outputs": [],
   "source": [
    "from typing import Dict, Tuple, List\n",
    "\n",
    "ConnectionOptions = Dict[str, str]\n",
    "Address = Tuple[str, int]\n",
    "Server = Tuple[Address, ConnectionOptions]\n",
    "\n",
    "def broadcast_message(message: str, servers: List[Server]) -> None:\n",
    "    ...\n",
    "\n",
    "# The static type checker will treat the previous type signature as\n",
    "# being exactly equivalent to this one.\n",
    "def broadcast_message(\n",
    "        message: str,\n",
    "        servers: List[Tuple[Tuple[str, int], Dict[str, str]]]) -> None:\n",
    "    ..."
   ]
  },
  {
   "cell_type": "code",
   "execution_count": 4,
   "id": "cf470552",
   "metadata": {},
   "outputs": [],
   "source": [
    "#  def twoSum(self, nums: List[int], target: int) -> List[int]: мы определеяем структуру внутри функции. \n",
    "# Она будет принимать на вход только лист с инт внутри и инт таргет и выдавать лист инт на выходе\n",
    "class Solution:\n",
    "    def twoSum(self, nums: List[int], target: int) -> List[int]:\n",
    "        for i in range(len(nums)):\n",
    "            for j in range(len(nums)):\n",
    "                if(nums[i] + nums[j] == target):\n",
    "                    return [i, j]"
   ]
  },
  {
   "cell_type": "code",
   "execution_count": 6,
   "id": "654b9fa8",
   "metadata": {},
   "outputs": [],
   "source": [
    "class Solution:\n",
    "    def twoSum(self, nums: List[int], target: int) -> List[int]:\n",
    "        hashmap = {}\n",
    "        for i in range(len(nums)):\n",
    "            hashmap[nums[i]] = i\n",
    "        print(hashmap)\n",
    "        for i in range(len(nums)):\n",
    "            complement = target - nums[i]\n",
    "            if complement in hashmap and hashmap[complement] != i:\n",
    "                return [i, hashmap[complement]] "
   ]
  },
  {
   "cell_type": "code",
   "execution_count": null,
   "id": "32cfc205",
   "metadata": {},
   "outputs": [],
   "source": [
    "class Solution:\n",
    "    def twoSum(self, nums: List[int], target: int) -> List[int]:\n",
    "        hashmap = {}\n",
    "        for i in range(len(nums)):\n",
    "            complement = target - nums[i]\n",
    "            if complement in hashmap:\n",
    "                return [i, hashmap[complement]]\n",
    "            hashmap[nums[i]] = i"
   ]
  },
  {
   "cell_type": "code",
   "execution_count": 10,
   "id": "6b93d8c9",
   "metadata": {},
   "outputs": [],
   "source": [
    "class Solution:\n",
    "    def twoSum(self, nums: List[int], target: int) -> List[int]:\n",
    "        nums.sort()\n",
    "        l , r = 0 , len(nums)-1\n",
    "        while l < r:\n",
    "            twoSum = nums[l] + nums[r]\n",
    "            if (twoSum > target):\n",
    "                r -= 1\n",
    "            elif (twoSum < target):\n",
    "                l += 1\n",
    "            else:\n",
    "                return [l,r]        "
   ]
  },
  {
   "cell_type": "code",
   "execution_count": 6,
   "id": "93bb95e3",
   "metadata": {},
   "outputs": [],
   "source": [
    "class Solution:\n",
    "    def twoSum(self, nums: List[int], target: int) -> List[int]:\n",
    "        for num in nums:\n",
    "            diff = target - num\n",
    "            if diff > 0 and diff in nums:\n",
    "                return nums.index(target - num)"
   ]
  },
  {
   "cell_type": "code",
   "execution_count": 7,
   "id": "47456ba1",
   "metadata": {},
   "outputs": [
    {
     "data": {
      "text/plain": [
       "1"
      ]
     },
     "execution_count": 7,
     "metadata": {},
     "output_type": "execute_result"
    }
   ],
   "source": [
    "S = Solution()\n",
    "S.twoSum([2,5,5,11], target = 10)"
   ]
  },
  {
   "cell_type": "code",
   "execution_count": null,
   "id": "94ddddf4",
   "metadata": {},
   "outputs": [],
   "source": []
  }
 ],
 "metadata": {
  "kernelspec": {
   "display_name": "Python 3 (ipykernel)",
   "language": "python",
   "name": "python3"
  },
  "language_info": {
   "codemirror_mode": {
    "name": "ipython",
    "version": 3
   },
   "file_extension": ".py",
   "mimetype": "text/x-python",
   "name": "python",
   "nbconvert_exporter": "python",
   "pygments_lexer": "ipython3",
   "version": "3.10.1"
  }
 },
 "nbformat": 4,
 "nbformat_minor": 5
}
