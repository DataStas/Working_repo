{
 "cells": [
  {
   "cell_type": "code",
   "execution_count": 19,
   "id": "7a273881",
   "metadata": {},
   "outputs": [],
   "source": [
    "import json\n",
    "import pandas as pd\n",
    "\n",
    "file = open('Batches.js')\n",
    "data = pd.read_json(file)"
   ]
  },
  {
   "cell_type": "code",
   "execution_count": 20,
   "id": "44ed3c3f",
   "metadata": {},
   "outputs": [
    {
     "data": {
      "text/html": [
       "<div>\n",
       "<style scoped>\n",
       "    .dataframe tbody tr th:only-of-type {\n",
       "        vertical-align: middle;\n",
       "    }\n",
       "\n",
       "    .dataframe tbody tr th {\n",
       "        vertical-align: top;\n",
       "    }\n",
       "\n",
       "    .dataframe thead th {\n",
       "        text-align: right;\n",
       "    }\n",
       "</style>\n",
       "<table border=\"1\" class=\"dataframe\">\n",
       "  <thead>\n",
       "    <tr style=\"text-align: right;\">\n",
       "      <th></th>\n",
       "      <th>AverageData</th>\n",
       "      <th>CountAverage</th>\n",
       "      <th>Density</th>\n",
       "      <th>DiagramZ_t</th>\n",
       "      <th>Layers</th>\n",
       "      <th>PowderingData</th>\n",
       "      <th>PuAverageConcentration</th>\n",
       "      <th>TimeFabrication</th>\n",
       "      <th>TimeStartFabrication</th>\n",
       "      <th>TotalMass</th>\n",
       "      <th>TotalPuMass</th>\n",
       "      <th>TotalTimeAverage</th>\n",
       "      <th>TotalVolume</th>\n",
       "    </tr>\n",
       "  </thead>\n",
       "  <tbody>\n",
       "    <tr>\n",
       "      <th>0</th>\n",
       "      <td>{'FillCoef': 0, 'Frequncy': 0, 'M': 0, 'Q': 0,...</td>\n",
       "      <td>0</td>\n",
       "      <td>5.717058</td>\n",
       "      <td>{'Z': [], 't': []}</td>\n",
       "      <td>[{'C_Pu': 1.218, 'Density': 5.8, 'Mass': 1.3, ...</td>\n",
       "      <td>{'FillCoef': 0, 'Frequncy': 0, 'Q': 0, 'TimeAv...</td>\n",
       "      <td>0.207552</td>\n",
       "      <td>529</td>\n",
       "      <td>0</td>\n",
       "      <td>38.4</td>\n",
       "      <td>7.97</td>\n",
       "      <td>0</td>\n",
       "      <td>6.716741</td>\n",
       "    </tr>\n",
       "  </tbody>\n",
       "</table>\n",
       "</div>"
      ],
      "text/plain": [
       "                                         AverageData  CountAverage   Density  \\\n",
       "0  {'FillCoef': 0, 'Frequncy': 0, 'M': 0, 'Q': 0,...             0  5.717058   \n",
       "\n",
       "           DiagramZ_t                                             Layers  \\\n",
       "0  {'Z': [], 't': []}  [{'C_Pu': 1.218, 'Density': 5.8, 'Mass': 1.3, ...   \n",
       "\n",
       "                                       PowderingData  PuAverageConcentration  \\\n",
       "0  {'FillCoef': 0, 'Frequncy': 0, 'Q': 0, 'TimeAv...                0.207552   \n",
       "\n",
       "   TimeFabrication  TimeStartFabrication  TotalMass  TotalPuMass  \\\n",
       "0              529                     0       38.4         7.97   \n",
       "\n",
       "   TotalTimeAverage  TotalVolume  \n",
       "0                 0     6.716741  "
      ]
     },
     "execution_count": 20,
     "metadata": {},
     "output_type": "execute_result"
    }
   ],
   "source": [
    "data.head(1)"
   ]
  },
  {
   "cell_type": "code",
   "execution_count": 21,
   "id": "d2443f66",
   "metadata": {},
   "outputs": [
    {
     "data": {
      "text/plain": [
       "Index(['AverageData', 'CountAverage', 'Density', 'DiagramZ_t', 'Layers',\n",
       "       'PowderingData', 'PuAverageConcentration', 'TimeFabrication',\n",
       "       'TimeStartFabrication', 'TotalMass', 'TotalPuMass', 'TotalTimeAverage',\n",
       "       'TotalVolume'],\n",
       "      dtype='object')"
      ]
     },
     "execution_count": 21,
     "metadata": {},
     "output_type": "execute_result"
    }
   ],
   "source": [
    "data.columns"
   ]
  },
  {
   "cell_type": "code",
   "execution_count": 22,
   "id": "75d37524",
   "metadata": {},
   "outputs": [
    {
     "data": {
      "text/plain": [
       "{'FillCoef': 0, 'Frequncy': 0, 'M': 0, 'Q': 0, 'TimeAverage': 0}"
      ]
     },
     "execution_count": 22,
     "metadata": {},
     "output_type": "execute_result"
    }
   ],
   "source": [
    "data['AverageData'][0]"
   ]
  },
  {
   "cell_type": "code",
   "execution_count": 23,
   "id": "eb979ac7",
   "metadata": {},
   "outputs": [
    {
     "data": {
      "text/plain": [
       "{'C_Pu': 1.218, 'Density': 5.8, 'Mass': 1.3, 'V': 0.224, 'm_Pu': 0.273}"
      ]
     },
     "execution_count": 23,
     "metadata": {},
     "output_type": "execute_result"
    }
   ],
   "source": [
    "data['Layers'][0][0]"
   ]
  },
  {
   "cell_type": "code",
   "execution_count": 24,
   "id": "fac3f360",
   "metadata": {},
   "outputs": [
    {
     "data": {
      "text/plain": [
       "{'FillCoef': 0, 'Frequncy': 0, 'Q': 0, 'TimeAverage': 0}"
      ]
     },
     "execution_count": 24,
     "metadata": {},
     "output_type": "execute_result"
    }
   ],
   "source": [
    "data['PowderingData'][0]"
   ]
  },
  {
   "cell_type": "code",
   "execution_count": 31,
   "id": "cc46e03e",
   "metadata": {},
   "outputs": [],
   "source": [
    "file.close()"
   ]
  },
  {
   "cell_type": "code",
   "execution_count": 28,
   "id": "aaf6e848",
   "metadata": {},
   "outputs": [],
   "source": [
    "file2 = open('statuses.js')\n",
    "data = pd.read_json(file2)"
   ]
  },
  {
   "cell_type": "code",
   "execution_count": 29,
   "id": "0a38fb5d",
   "metadata": {},
   "outputs": [
    {
     "data": {
      "text/html": [
       "<div>\n",
       "<style scoped>\n",
       "    .dataframe tbody tr th:only-of-type {\n",
       "        vertical-align: middle;\n",
       "    }\n",
       "\n",
       "    .dataframe tbody tr th {\n",
       "        vertical-align: top;\n",
       "    }\n",
       "\n",
       "    .dataframe thead th {\n",
       "        text-align: right;\n",
       "    }\n",
       "</style>\n",
       "<table border=\"1\" class=\"dataframe\">\n",
       "  <thead>\n",
       "    <tr style=\"text-align: right;\">\n",
       "      <th></th>\n",
       "      <th>data</th>\n",
       "      <th>time</th>\n",
       "    </tr>\n",
       "  </thead>\n",
       "  <tbody>\n",
       "    <tr>\n",
       "      <th>0</th>\n",
       "      <td>[{'containerContent': 0, 'containerID': 0, 'mo...</td>\n",
       "      <td>0</td>\n",
       "    </tr>\n",
       "  </tbody>\n",
       "</table>\n",
       "</div>"
      ],
      "text/plain": [
       "                                                data  time\n",
       "0  [{'containerContent': 0, 'containerID': 0, 'mo...     0"
      ]
     },
     "execution_count": 29,
     "metadata": {},
     "output_type": "execute_result"
    }
   ],
   "source": [
    "data.head(1)"
   ]
  },
  {
   "cell_type": "code",
   "execution_count": 30,
   "id": "ffe7366b",
   "metadata": {},
   "outputs": [
    {
     "data": {
      "text/plain": [
       "{'containerContent': 0,\n",
       " 'containerID': 0,\n",
       " 'moto': [10000],\n",
       " 'plantID': 100,\n",
       " 'plantName': 'Manipulator',\n",
       " 'res': [{'sideheader': 'РџРѕС‚СЂРµР±Р»СЏРµРјР°СЏ РјРѕС‰РЅРѕСЃС‚СЊ, РєР’С‚',\n",
       "   'values': [3.21]}],\n",
       " 'state': 0}"
      ]
     },
     "execution_count": 30,
     "metadata": {},
     "output_type": "execute_result"
    }
   ],
   "source": [
    "data['data'][0][0]"
   ]
  },
  {
   "cell_type": "code",
   "execution_count": null,
   "id": "6169bf11",
   "metadata": {},
   "outputs": [],
   "source": []
  }
 ],
 "metadata": {
  "kernelspec": {
   "display_name": "Python 3 (ipykernel)",
   "language": "python",
   "name": "python3"
  },
  "language_info": {
   "codemirror_mode": {
    "name": "ipython",
    "version": 3
   },
   "file_extension": ".py",
   "mimetype": "text/x-python",
   "name": "python",
   "nbconvert_exporter": "python",
   "pygments_lexer": "ipython3",
   "version": "3.10.1"
  }
 },
 "nbformat": 4,
 "nbformat_minor": 5
}
