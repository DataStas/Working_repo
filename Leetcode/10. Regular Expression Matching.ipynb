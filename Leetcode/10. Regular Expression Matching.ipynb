{
 "cells": [
  {
   "cell_type": "code",
   "execution_count": null,
   "id": "fb131d03",
   "metadata": {},
   "outputs": [],
   "source": [
    "class Solution(object):\n",
    "    def isMatch(self, text, pattern):\n",
    "        if not pattern:\n",
    "            return not text\n",
    "\n",
    "        first_match = bool(text) and pattern[0] in {text[0], '.'}\n",
    "\n",
    "        if len(pattern) >= 2 and pattern[1] == '*':\n",
    "            return (self.isMatch(text, pattern[2:]) or\n",
    "                    first_match and self.isMatch(text[1:], pattern))\n",
    "        else:\n",
    "            return first_match and self.isMatch(text[1:], pattern[1:])"
   ]
  },
  {
   "cell_type": "code",
   "execution_count": null,
   "id": "ce41a9ad",
   "metadata": {},
   "outputs": [],
   "source": []
  }
 ],
 "metadata": {
  "kernelspec": {
   "display_name": "Python 3 (ipykernel)",
   "language": "python",
   "name": "python3"
  },
  "language_info": {
   "codemirror_mode": {
    "name": "ipython",
    "version": 3
   },
   "file_extension": ".py",
   "mimetype": "text/x-python",
   "name": "python",
   "nbconvert_exporter": "python",
   "pygments_lexer": "ipython3",
   "version": "3.9.10"
  }
 },
 "nbformat": 4,
 "nbformat_minor": 5
}
