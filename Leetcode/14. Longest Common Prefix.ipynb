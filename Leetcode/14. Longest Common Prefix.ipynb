{
 "cells": [
  {
   "cell_type": "code",
   "execution_count": 131,
   "id": "08cdaa3e",
   "metadata": {},
   "outputs": [],
   "source": [
    "def longestCommonPrefix(strs):\n",
    "    if len(strs) > 1 and strs[0] != \"\":\n",
    "        for i in range(len(strs[0])):\n",
    "            stack = strs[0][0:i+1]\n",
    "            for j in range(len(strs)):\n",
    "                if stack in strs[j][0:i+1]:\n",
    "                    continue\n",
    "                else:\n",
    "                    return stack[:-1]\n",
    "        return stack\n",
    "    else:\n",
    "        return strs[0]"
   ]
  },
  {
   "cell_type": "code",
   "execution_count": 132,
   "id": "359f994d",
   "metadata": {},
   "outputs": [],
   "source": [
    "strs = ['clock', 'cloml', 'clo43m124l', 'cloml112','clom124l']"
   ]
  },
  {
   "cell_type": "code",
   "execution_count": 136,
   "id": "b62306a6",
   "metadata": {},
   "outputs": [
    {
     "data": {
      "text/plain": [
       "'clo'"
      ]
     },
     "execution_count": 136,
     "metadata": {},
     "output_type": "execute_result"
    }
   ],
   "source": [
    "longestCommonPrefix(strs)"
   ]
  },
  {
   "cell_type": "code",
   "execution_count": 135,
   "id": "ddc14e24",
   "metadata": {},
   "outputs": [],
   "source": [
    "def longestCommonPrefix(strs):\n",
    "    res = \"\"\n",
    "    for i in range(len(strs[0])):\n",
    "        for s in strs:\n",
    "            if i == len(s) or s[i] != strs[0][i]:\n",
    "                return res\n",
    "        res += strs[0][i]\n",
    "    return res\n",
    "                "
   ]
  },
  {
   "cell_type": "code",
   "execution_count": null,
   "id": "4c8d6d6e",
   "metadata": {},
   "outputs": [],
   "source": []
  }
 ],
 "metadata": {
  "kernelspec": {
   "display_name": "Python 3 (ipykernel)",
   "language": "python",
   "name": "python3"
  },
  "language_info": {
   "codemirror_mode": {
    "name": "ipython",
    "version": 3
   },
   "file_extension": ".py",
   "mimetype": "text/x-python",
   "name": "python",
   "nbconvert_exporter": "python",
   "pygments_lexer": "ipython3",
   "version": "3.9.10"
  }
 },
 "nbformat": 4,
 "nbformat_minor": 5
}
