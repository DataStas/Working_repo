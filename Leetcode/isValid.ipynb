{
 "cells": [
  {
   "cell_type": "code",
   "execution_count": 1,
   "id": "0618dba4",
   "metadata": {},
   "outputs": [],
   "source": [
    "import regex as re"
   ]
  },
  {
   "cell_type": "code",
   "execution_count": 136,
   "id": "927cdb48",
   "metadata": {},
   "outputs": [],
   "source": [
    "def isValid(s: str) -> bool:\n",
    "    symbols = list(s)\n",
    "    valid_symbols = [\"(\", \")\",\"[\", \"]\",\"{\", \"}\"]\n",
    "    parentheses = []\n",
    "    for symbol in symbols:\n",
    "        if symbol in valid_symbols:\n",
    "            parentheses.append(symbol)\n",
    "    i = 0\n",
    "    print(parentheses)\n",
    "    while parentheses:\n",
    "        if parentheses[0] == \"(\" and parentheses.remove(']'):\n",
    "            parentheses.remove('(')\n",
    "            parentheses.remove(')')\n",
    "        elif parentheses[0] == \"[\" and parentheses.remove(']'):\n",
    "            parentheses.remove('[')\n",
    "            parentheses.remove(']')\n",
    "        elif parentheses[0] == \"{\" and parentheses.remove('}'):\n",
    "            parentheses.remove('{')\n",
    "            parentheses.remove('}')\n",
    "        else:\n",
    "            return False\n",
    "    return True"
   ]
  },
  {
   "cell_type": "code",
   "execution_count": 145,
   "id": "baf5328b",
   "metadata": {},
   "outputs": [],
   "source": [
    "s = \"(([])[]{})\""
   ]
  },
  {
   "cell_type": "code",
   "execution_count": 147,
   "id": "b5cdb4d6",
   "metadata": {},
   "outputs": [],
   "source": [
    "def isValid(s: str) -> bool:\n",
    "    stack = []\n",
    "    close_open = { \")\" : \"(\", \"]\" : \"[\", \"}\" : \"{\" }\n",
    "    for c in s:\n",
    "        print(stack)\n",
    "        if c in close_open:\n",
    "            if stack and stack[-1] == close_open[c]: # последний добавленный\n",
    "                stack.pop()\n",
    "            else:\n",
    "                return False\n",
    "        else:\n",
    "            stack.append(c)\n",
    "    return True if not stack else False"
   ]
  },
  {
   "cell_type": "code",
   "execution_count": 148,
   "id": "73be8af1",
   "metadata": {},
   "outputs": [
    {
     "name": "stdout",
     "output_type": "stream",
     "text": [
      "[]\n",
      "['(']\n",
      "['(', '(']\n",
      "['(', '(', '[']\n",
      "['(', '(']\n",
      "['(']\n",
      "['(', '[']\n",
      "['(']\n",
      "['(', '{']\n",
      "['(']\n"
     ]
    },
    {
     "data": {
      "text/plain": [
       "True"
      ]
     },
     "execution_count": 148,
     "metadata": {},
     "output_type": "execute_result"
    }
   ],
   "source": [
    "isValid(s)"
   ]
  }
 ],
 "metadata": {
  "kernelspec": {
   "display_name": "Python 3 (ipykernel)",
   "language": "python",
   "name": "python3"
  },
  "language_info": {
   "codemirror_mode": {
    "name": "ipython",
    "version": 3
   },
   "file_extension": ".py",
   "mimetype": "text/x-python",
   "name": "python",
   "nbconvert_exporter": "python",
   "pygments_lexer": "ipython3",
   "version": "3.9.10"
  }
 },
 "nbformat": 4,
 "nbformat_minor": 5
}
